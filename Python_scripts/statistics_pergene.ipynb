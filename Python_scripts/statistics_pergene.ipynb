{
 "nbformat": 4,
 "nbformat_minor": 2,
 "metadata": {
  "language_info": {
   "name": "python",
   "codemirror_mode": {
    "name": "ipython",
    "version": 3
   },
   "version": "3.6.8-final"
  },
  "orig_nbformat": 2,
  "file_extension": ".py",
  "mimetype": "text/x-python",
  "name": "python",
  "npconvert_exporter": "python",
  "pygments_lexer": "ipython3",
  "version": 3,
  "kernelspec": {
   "name": "python3",
   "display_name": "Python 3"
  }
 },
 "cells": [
  {
   "cell_type": "markdown",
   "execution_count": null,
   "metadata": {},
   "outputs": [],
   "source": [
    "# Determining statistics per gene\n",
    "This code determines statistics based on the results obtained in the _pergene.txt file by the Matlab code provided by Benoit.\n",
    "This file consists of three columns.\n",
    "The rows in the first column contains all genes of * S.Cerevisiae*, the corresponding transposon count is stored in the second column and the third column contains the reads.\n",
    "\n",
    "\n",
    "The genes in this file are split into two groups based on their essentiality.\n",
    "This is determined using two files that contains all known essential genes.\n",
    "\n",
    "\n",
    "The data is represented as a violinplot where both the essential and non-essential genes are shown."
   ]
  },
  {
   "cell_type": "markdown",
   "execution_count": null,
   "metadata": {},
   "outputs": [],
   "source": [
    "## Initialization\n",
    "\n",
    "Data that needs to be loaded:\n",
    "\n",
    "1. Path and filename of the results obtained by the Matlab code of benoit.\n",
    "2. File(s) that include a list of all known essential genes (in WT).\n",
    "3. File with gene information, most notably, the length of each gene and both the standard name and the systematic name. "
   ]
  },
  {
   "cell_type": "code",
   "execution_count": null,
   "metadata": {},
   "outputs": [],
   "source": [
    "import os\n",
    "import numpy as np\n",
    "import matplotlib.pyplot as plt\n",
    "import pandas as pd\n",
    "import seaborn as sns"
   ]
  },
  {
   "cell_type": "markdown",
   "execution_count": null,
   "metadata": {},
   "outputs": [],
   "source": [
    "## Input variables\n",
    "\n",
    "1. normalize: Whether or not to normalize the transposon and read counts to the gene lengths (True or False)\n",
    "2. filepath: Path to the output text file the Matlab code of Benoit that includes the read and transposon count per gene (with extension ...pergene.txt)\n",
    "3. filename: Name of this file.\n",
    "4. essential_genes_files: List of essential genes. Can be input as multiple files which will be automatically merged.\n",
    "5. gene_information_file: List of genes with their possible aliasses and lengths in amino acids."
   ]
  },
  {
   "cell_type": "code",
   "execution_count": null,
   "metadata": {},
   "outputs": [],
   "source": [
    "#'E-MTAB-4885.WT1.bam_pergene.txt')\n",
    "filepath = '/Users/gregory/Documents/LaanLab/LaanLab_Data/Michel2017_WT1/'\n",
    "filename = 'E-MTAB-4885.WT1.bam_pergene.txt'\n",
    "normalize = 'True'\n",
    "\n",
    "essential_genes_files = ['/Users/gregory/Documents/LaanLab/EssentialGenes_Database/Cervisiae_EssentialGenes_List_1.txt',\n",
    "                        '/Users/gregory/Documents/LaanLab/EssentialGenes_Database/Cervisiae_EssentialGenes_List_2.txt']\n",
    "\n",
    "gene_information_file = '/Users/gregory/Documents/LaanLab/EssentialGenes_Database/Yeast_Protein_Names.txt'"
   ]
  },
  {
   "cell_type": "markdown",
   "execution_count": null,
   "metadata": {},
   "outputs": [],
   "source": [
    "## Make list of all essential genes.\n",
    "This can be input from multiple files that are merged in one list."
   ]
  },
  {
   "cell_type": "code",
   "execution_count": null,
   "metadata": {},
   "outputs": [],
   "source": [
    "known_essential_gene_list = []\n",
    "\n",
    "for files in essential_genes_files:\n",
    "    with open(files) as f:\n",
    "        for header_lines in range(3):\n",
    "            next(f)\n",
    "        for lines in f:\n",
    "            known_essential_gene_list.append(lines.rstrip('\\n'))"
   ]
  },
  {
   "cell_type": "markdown",
   "execution_count": null,
   "metadata": {},
   "outputs": [],
   "source": [
    "## Create a dictionary with length all genes\n",
    "Dictionary consists of keys which are all genes (including all their potential aliasses) and of values which are the length in terms of base pairs.\n",
    "The number of base pairs is calculated by multiplying the number of amino acids by 3.\n"
   ]
  },
  {
   "cell_type": "code",
   "execution_count": null,
   "metadata": {},
   "outputs": [],
   "source": [
    "#CREATE A DICTIONARY WITH ALL GENES (BOTH THE COMMON NAME AND THEIR SYSTEMATIC NAME) AND SAVE THEM WITH THEIR RESPECTIVE LENGHTS (IN TERMS OF BP WHICH IS DEFINED AS bp=aa*3)\n",
    "gene_information_file = '/Users/gregory/Documents/LaanLab/EssentialGenes_Database/Yeast_Protein_Names.txt'\n",
    "gene_length_dict = {}\n",
    "with open(gene_information_file) as f:\n",
    "    lines = f.readlines()\n",
    "    for i in range(58,len(lines)-6):    #THE GENES START AT LINE 58 AND STOP 6 LINES BEFORE THE END OF THE FILE.\n",
    "        n=0\n",
    "        l = lines[i]\n",
    "\n",
    "        extra_columns = l.count(';')    #COUNT HOW MANY TIMES ';' OCCURS IN A LINE. THIS IS NEEDED TO GET THE RIGHT COLUMNS AS SOMETIMES ALIASES OF GENES ARE PRESENTED IN EXTRA COLUMNS\n",
    "        l_short = ' '.join(l.split())\n",
    "        l_list = l_short.split(' ')\n",
    "\n",
    "        if l_list[1+extra_columns] == 'GAG' or l_list[1+extra_columns] == 'POL':    #THESE ARE SEQUENCES THAT SOMETIMES OCCUR WHICH HAVE TO BE IGNORED.\n",
    "            extra_columns = extra_columns + 1\n",
    "        gene_length_dict[l_list[0].strip(';')] = int(l_list[5+extra_columns])*3 #DETERMINE GENE LENGTH AND STORE WITH THE CORRESPONDING GENE NAME (e.g. Cdc42)\n",
    "        gene_length_dict[l_list[1+extra_columns]] = int(l_list[5+extra_columns])*3  #DETERMINE GENE LENGTH AND STORE WITH THE CORRESPONDING GENE SYSTEMATIC NAME (e.g. YLR229C)\n",
    "        if extra_columns > 0:\n",
    "            for n in range(extra_columns+1):\n",
    "                gene_length_dict[l_list[0+n]] = int(l_list[5+extra_columns])*3  #DETERMINE GENE LENGTH AND STORE WITH THE CORRESPONDING GENE ALIASES (IF PRESENT).\n",
    ""
   ]
  },
  {
   "cell_type": "markdown",
   "execution_count": null,
   "metadata": {},
   "outputs": [],
   "source": [
    "## Create lists with information to be plotted\n",
    "Lists are made for\n",
    "\n",
    "1. Gene names\n",
    "2. Reads per gene \n",
    "3. Transposons per gene \n",
    "4. Whether or not a gene is essential or not (contains only True and False statements)\n",
    "5. Reads per gene normalized to the length of each gene in terms of base pairs\n",
    "6. Transposons per gene normalized to the length of each gene in terms of base pairs\n",
    "\n",
    "The gene_counter counts the number of genes included in the analysis. The fail_counter are the number of genes that are present in the data, but could be found in the list of gene lengths and could therefore not be normalized. Therefore these are ignored. This should not be much more than 0.5% of the total amount of genes."
   ]
  },
  {
   "cell_type": "code",
   "execution_count": null,
   "metadata": {},
   "outputs": [],
   "source": [
    "gene_name_list = [] #LIST OF ALL GENES ANALYZED AND OUTPUT BY THE MATLAB CODE OF BENOIT.\n",
    "reads_pergene_list = [] #NUMBER OF READS PER GENE AS DETERMINED BY THE MATLAB CODE OF BENOIT.\n",
    "tn_pergene_list = [] #NUMBER OF TRANSPOSONS PER GENE AS DETERMINED BY THE MATLAB CODE OF BENOIT.\n",
    "gene_essential_boolean_list = [] #WHICH OF THE GENES ANALYZED ARE ESSENTIAL (MARKED AS TRUE) AND NON ESSENTIAL (MARKED AS FALSE)\n",
    "reads_pergene_norm_list = [] #NUMBER OF READS PER GENE AS DETERMINED BY THE MATLAB CODE OF BENOIT NORMALIZED FOR THE LENGTH OF THE GENES IN TERMS OF BASEPAIRS.\n",
    "tn_pergene_norm_list = [] #NUMBER OF TRANSPOSONS PER GENE AS DETERMINED BY THE MATLAB CODE OF BENOIT NORMALIZED FOR THE LENGTH OF THE GENES IN TERMS OF BASEPAIRS.\n",
    "\n",
    "file = os.path.join(filepath,filename)\n",
    "\n",
    "with open(file) as f:\n",
    "    next(f)\n",
    "    gene_counter = 0\n",
    "    fail_counter = 0\n",
    "#         failed_genes_list = []\n",
    "    for lines in f:\n",
    "        split_line = lines.split('\\t')\n",
    "\n",
    "        gene_name = split_line[0].rstrip()\n",
    "\n",
    "\n",
    "\n",
    "        #APPEND A NAN-ELEMENT IF THE NUMBER OF READS OR TRANSPOSONS IS NOT PRESENT.\n",
    "        if len(split_line) > 1:\n",
    "            tn_pergene = int(split_line[1])\n",
    "        else:\n",
    "            tn_pergene = np.nan\n",
    "\n",
    "        if len(split_line) > 2:\n",
    "            reads_pergene = int(split_line[2])\n",
    "        else:\n",
    "            reads_pergene = np.nan\n",
    "\n",
    "        reads_pergene_list.append(reads_pergene)\n",
    "        tn_pergene_list.append(tn_pergene)\n",
    "\n",
    "        #CHECK IF THE GENE IS PRESENT IN THE LIST OF ESSENTIAL GENES.\n",
    "        if normalize == 'False':\n",
    "            if gene_name in known_essential_gene_list:\n",
    "                gene_essential_boolean_list.append('True') \n",
    "            else:\n",
    "                gene_essential_boolean_list.append('False')\n",
    "            gene_name_list.append(gene_name)\n",
    "\n",
    "        else:\n",
    "            gene_length = gene_length_dict.get(gene_name)\n",
    "            try:\n",
    "                reads_pergene_norm_list.append(reads_pergene/gene_length)\n",
    "                tn_pergene_norm_list.append(tn_pergene/gene_length)\n",
    "\n",
    "                if gene_name in known_essential_gene_list:\n",
    "                    gene_essential_boolean_list.append('True') \n",
    "                else:\n",
    "                    gene_essential_boolean_list.append('False')\n",
    "\n",
    "                gene_name_list.append(gene_name)\n",
    "                gene_counter = gene_counter + 1\n",
    "            except:\n",
    "                fail_counter = fail_counter + 1\n",
    "#                     failed_genes_list.append(gene_name)\n",
    "\n",
    "print('Number of genes analyzed: ',gene_counter)\n",
    "print('Number of genes not found: ',fail_counter)\n",
    "#     print('Genes not found: ',failed_genes_list)\n",
    "print('')\n",
    "print('')"
   ]
  },
  {
   "cell_type": "markdown",
   "execution_count": null,
   "metadata": {},
   "outputs": [],
   "source": [
    "## Create dataframe\n",
    "This puts the data in the form of a dataframe (part of the pandas package). This is necessary for plotting."
   ]
  },
  {
   "cell_type": "code",
   "execution_count": null,
   "metadata": {},
   "outputs": [],
   "source": [
    "if normalize == 'False':\n",
    "    genes = {'Gene_name': gene_name_list,\n",
    "            'Transposons_per_gene': tn_pergene_list,\n",
    "            'Reads_per_gene': reads_pergene_list,\n",
    "            'Essential_gene': gene_essential_boolean_list\n",
    "            }\n",
    "    df = pd.DataFrame(genes,columns=['Gene_name','Transposons_per_gene','Reads_per_gene', 'Essential_gene'])\n",
    "else:\n",
    "    genes = {'Gene_name': gene_name_list,\n",
    "            'Transposon_density_per_gene': tn_pergene_norm_list,\n",
    "            'Read_density_per_gene': reads_pergene_norm_list,\n",
    "            'Essential_gene': gene_essential_boolean_list\n",
    "            }\n",
    "    df = pd.DataFrame(genes,columns=['Gene_name','Transposon_density_per_gene','Read_density_per_gene', 'Essential_gene'])"
   ]
  },
  {
   "cell_type": "markdown",
   "execution_count": null,
   "metadata": {},
   "outputs": [],
   "source": [
    "## Print statistics"
   ]
  },
  {
   "cell_type": "code",
   "execution_count": null,
   "metadata": {},
   "outputs": [],
   "source": [
    "print('Average number of reads all genes: ',np.nanmean(reads_pergene_list))\n",
    "print('Median number of reads all genes: ',np.nanmedian(reads_pergene_list))\n",
    "print('Standard Deviation number of reads all genes: ',np.nanstd(reads_pergene_list))\n",
    "print('')\n",
    "\n",
    "print('Average number of transposons all genes: ',np.nanmean(tn_pergene_list))\n",
    "print('Median number of transposons all genes: ',np.nanmedian(tn_pergene_list))\n",
    "print('Standard Deviation number of transposons all genes: ',np.nanstd(tn_pergene_list))\n",
    "print('')\n",
    "print('')\n",
    "\n",
    "\n",
    "\n",
    "indices_essential_genes_list = [i for i, x in enumerate(gene_essential_boolean_list) if x == 'True']\n",
    "reads_peressentialgene_list = [reads_pergene_list[i] for i in indices_essential_genes_list]\n",
    "print('Average number of reads of essential genes: ',np.nanmean(reads_peressentialgene_list))\n",
    "print('Median number of reads of essential genes: ',np.nanmedian(reads_peressentialgene_list))\n",
    "print('Maximum number of reads of essential genes: ',np.nanmax(reads_peressentialgene_list))\n",
    "print('Minimum number of reads of essential genes: ',np.nanmin(reads_peressentialgene_list))\n",
    "print('')\n",
    "\n",
    "indices_nonessential_genes_list = [i for i, x in enumerate(gene_essential_boolean_list) if x == 'False']\n",
    "reads_pernonessentialgene_list = [reads_pergene_list[i] for i in indices_nonessential_genes_list]\n",
    "print('Average number of reads of nonessential genes: ',np.nanmean(reads_pernonessentialgene_list))\n",
    "print('Median number of reads of nonessential genes: ',np.nanmedian(reads_pernonessentialgene_list))\n",
    "print('Maximum number of reads of nonessential genes: ',np.nanmax(reads_pernonessentialgene_list))\n",
    "print('Minimum number of reads of nonessential genes: ',np.nanmin(reads_pernonessentialgene_list))\n",
    "print('')\n",
    "print('')\n",
    "\n",
    "\n",
    "\n",
    "tn_peressentialgene_list = [tn_pergene_list[i] for i in indices_essential_genes_list]\n",
    "print('Average number of transposons of essential genes: ',np.nanmean(tn_peressentialgene_list))\n",
    "print('Median number of transposons of essential genes: ',np.nanmedian(tn_peressentialgene_list))\n",
    "print('Standard deviation number of transposons of essential genes: ',np.nanstd(tn_peressentialgene_list))\n",
    "print('Maximum number of transposons of essential genes: ',np.nanmax(tn_peressentialgene_list))\n",
    "print('Minimum number of transposons of essential genes: ',np.nanmin(tn_peressentialgene_list))\n",
    "print('')\n",
    "\n",
    "tn_pernonessentialgene_list = [tn_pergene_list[i] for i in indices_nonessential_genes_list]\n",
    "print('Average number of transposons of nonessential genes: ',np.nanmean(tn_pernonessentialgene_list))\n",
    "print('Median number of transposons of nonessential genes: ',np.nanmedian(tn_pernonessentialgene_list))\n",
    "print('Standard deviation number of transposons of nonessential genes: ',np.nanstd(tn_pernonessentialgene_list))\n",
    "print('Maximum number of transposons of nonessential genes: ',np.nanmax(tn_pernonessentialgene_list))\n",
    "print('Minimum number of transposons of nonessential genes: ',np.nanmin(tn_pernonessentialgene_list))\n",
    "print('')"
   ]
  },
  {
   "cell_type": "markdown",
   "metadata": {},
   "source": [
    "## Create a histogram\n",
    "A histogram is plotted where the number of reads and number of transposons are shown for essential and non-essential genes together."
   ],
   "execution_count": null,
   "outputs": []
  },
  {
   "cell_type": "code",
   "execution_count": null,
   "metadata": {},
   "outputs": [],
   "source": [
    "#CREATE HISTOGRAMS FOR THE NUMBER OF READS AND TRANSPOSONS INSERTED PER GENE.\n",
    "fig, (ax1,ax2) = plt.subplots(1,2)\n",
    "n_reads,bins_reads,patches_reads = ax1.hist(reads_pergene_list, density=False, bins=range(min(reads_pergene_list), max(reads_pergene_list) + 1000, 1000), facecolor='blue',alpha=0.5, label='Reads')\n",
    "ax1.axvline(x=np.nanmedian(reads_pergene_list), linestyle='--', label='Median Reads', color='k')\n",
    "ax1.set_xlabel('Reads per gene (all genes)')\n",
    "ax1.set_ylabel('Occurance')\n",
    "ax1.legend()\n",
    "ax1.grid()\n",
    "n_tn,bins_tn,patches_tn = ax2.hist(tn_pergene_list, density=False, bins=range(min(tn_pergene_list), max(tn_pergene_list) + 50, 50), facecolor='red',alpha=0.5, label='Transposons')\n",
    "ax2.axvline(x=np.nanmedian(tn_pergene_list), linestyle='--', label='Median Transposons', color='k')\n",
    "ax2.set_xlabel('Counts per gene (all genes)')\n",
    "ax2.set_ylabel('Occurance')\n",
    "ax2.legend()\n",
    "ax2.grid()\n",
    "plt.show()"
   ]
  },
  {
   "cell_type": "markdown",
   "execution_count": null,
   "metadata": {},
   "outputs": [],
   "source": [
    "## Create a violin plot\n",
    "When normalization is set to True, the plots represent read- and transposon densities."
   ]
  },
  {
   "cell_type": "code",
   "execution_count": null,
   "metadata": {},
   "outputs": [],
   "source": [
    "#CREATE VIOLINPLOTS FOR THE NUMBER OF READS AND TRANSPOSONS INSERTED PER GENE, DIVIDED BY ESSENTIALITY OF THE GENES.\n",
    "fig, (ax1, ax2) = plt.subplots(1,2)\n",
    "sns.set(style='whitegrid', palette='pastel', color_codes=True)\n",
    "df['Reads'] = ''\n",
    "if normalize == 'False':\n",
    "    sns.violinplot(x='Reads',y=\"Reads_per_gene\", hue='Essential_gene', inner='quarter', gridsize=400, palette={'False':'r', 'True':'g'}, split=True, cut=0, orient='v', data=df, ax=ax1)\n",
    "else:\n",
    "    sns.violinplot(x='Reads',y=\"Read_density_per_gene\", hue='Essential_gene', inner='quarter', gridsize=400, palette={'False':'r', 'True':'g'}, split=True, cut=0, orient='v', data=df, ax=ax1)\n",
    "ax1.grid()\n",
    "\n",
    "df['Transposons'] = ''\n",
    "if normalize == 'False':\n",
    "    sns.violinplot(x='Transposons',y=\"Transposons_per_gene\", hue='Essential_gene', inner='quarter', gridsize=400, palette={'False':'r', 'True':'g'}, split=True, cut=0, orient='v', data=df, ax=ax2)\n",
    "else:\n",
    "    sns.violinplot(x='Transposons',y=\"Transposon_density_per_gene\", hue='Essential_gene', inner='quarter', gridsize=400, palette={'False':'r', 'True':'g'}, split=True, cut=0, orient='v', data=df, ax=ax2)\n",
    "ax2.grid()\n",
    "plt.show()"
   ]
  },
  {
   "cell_type": "markdown",
   "execution_count": null,
   "metadata": {},
   "outputs": [],
   "source": [
    "## Conclusion\n",
    "\n",
    "Ideally the median values of the essential and nonessential genes are far apart from each other, so that a clear distinction can be made between which genes are essential and which are not based on the transposon counts. If this is not the case or when there is significant overlap between the distribution, no definite conclusion can be drawn about the essentiality.\n",
    "\n",
    "Usually, essential genes have little transposon counts, but nonessential genes can have both high or low transposon counts (for an explanation on this effect, see the paper by Michel et.al. 2017).\n",
    "This means that if a high transposon count occurs, the gene is probably nonessential.\n",
    "But if a low transposon count is present, typically no conclusion can be drawn about its essentiality."
   ]
  },
  {
   "cell_type": "code",
   "execution_count": null,
   "metadata": {},
   "outputs": [],
   "source": []
  }
 ]
}